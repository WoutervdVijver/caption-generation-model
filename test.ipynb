{
 "cells": [
  {
   "cell_type": "code",
   "execution_count": 1,
   "metadata": {},
   "outputs": [],
   "source": [
    "import joblib\n",
    "import os\n",
    "import tensorflow as tf\n",
    "import keras\n",
    "import numpy as np"
   ]
  },
  {
   "cell_type": "code",
   "execution_count": 4,
   "metadata": {},
   "outputs": [],
   "source": [
    "from text_prep import load_dataset"
   ]
  },
  {
   "cell_type": "code",
   "execution_count": 4,
   "metadata": {},
   "outputs": [],
   "source": [
    "# captions = clean_descriptions(load_descriptions(path))"
   ]
  },
  {
   "cell_type": "code",
   "execution_count": 5,
   "metadata": {},
   "outputs": [],
   "source": [
    "train_path = 'data/Flickr8k_text/Flickr_8k.trainImages.txt'\n",
    "test_path = 'data/Flickr8k_text/Flickr_8k.testImages.txt'"
   ]
  },
  {
   "cell_type": "code",
   "execution_count": 6,
   "metadata": {},
   "outputs": [],
   "source": [
    "train_dataset = load_dataset(train_path)\n",
    "test_dataset = load_dataset(test_path)"
   ]
  },
  {
   "cell_type": "code",
   "execution_count": 7,
   "metadata": {},
   "outputs": [],
   "source": [
    "captions = joblib.load('captions.pkl')"
   ]
  },
  {
   "cell_type": "code",
   "execution_count": 8,
   "metadata": {},
   "outputs": [],
   "source": [
    "features = joblib.load('features.pkl')"
   ]
  },
  {
   "cell_type": "code",
   "execution_count": 9,
   "metadata": {},
   "outputs": [],
   "source": [
    "def load_feat_descr(dict, dataset):\n",
    "    return {k: dict[k] for k in dataset}"
   ]
  },
  {
   "cell_type": "code",
   "execution_count": 10,
   "metadata": {},
   "outputs": [],
   "source": [
    "captions_train = load_feat_descr(captions, train_dataset)\n",
    "features_train = load_feat_descr(features, train_dataset)\n",
    "captions_test = load_feat_descr(captions, test_dataset)\n",
    "features_test = load_feat_descr(features, test_dataset)"
   ]
  },
  {
   "cell_type": "code",
   "execution_count": 11,
   "metadata": {},
   "outputs": [],
   "source": [
    "from keras.preprocessing.text import Tokenizer\n",
    "from text_prep import to_vocabulary"
   ]
  },
  {
   "cell_type": "code",
   "execution_count": 12,
   "metadata": {},
   "outputs": [],
   "source": [
    "vocab = to_vocabulary(captions_train)"
   ]
  },
  {
   "cell_type": "code",
   "execution_count": 14,
   "metadata": {},
   "outputs": [
    {
     "data": {
      "text/plain": [
       "5785"
      ]
     },
     "execution_count": 14,
     "metadata": {},
     "output_type": "execute_result"
    }
   ],
   "source": [
    "len(vocab)"
   ]
  },
  {
   "cell_type": "code",
   "execution_count": 13,
   "metadata": {},
   "outputs": [
    {
     "name": "stderr",
     "output_type": "stream",
     "text": [
      "2022-06-23 12:12:40.279527: I tensorflow/core/platform/cpu_feature_guard.cc:193] This TensorFlow binary is optimized with oneAPI Deep Neural Network Library (oneDNN) to use the following CPU instructions in performance-critical operations:  AVX2 FMA\n",
      "To enable them in other operations, rebuild TensorFlow with the appropriate compiler flags.\n"
     ]
    }
   ],
   "source": [
    "vc = keras.layers.TextVectorization(\n",
    "    vocabulary = ['startseq'] + list(vocab) + ['endseq']\n",
    ")"
   ]
  },
  {
   "cell_type": "code",
   "execution_count": 15,
   "metadata": {},
   "outputs": [
    {
     "data": {
      "text/plain": [
       "36"
      ]
     },
     "execution_count": 15,
     "metadata": {},
     "output_type": "execute_result"
    }
   ],
   "source": [
    "max_len = 0\n",
    "for key in captions_train.keys():\n",
    "    for d in captions_train[key]:\n",
    "        max_len = max(max_len, len(d))\n",
    "max_len        "
   ]
  },
  {
   "cell_type": "code",
   "execution_count": 16,
   "metadata": {},
   "outputs": [],
   "source": [
    "from keras.utils import pad_sequences"
   ]
  },
  {
   "cell_type": "code",
   "execution_count": 70,
   "metadata": {},
   "outputs": [],
   "source": [
    "def sequencer(dataset, captions, features):\n",
    "    X_1, X_2, y = [], [], []\n",
    "    for key in dataset:\n",
    "        for desc in captions[key]:\n",
    "            seq = ['startseq'] + desc + ['endseq']\n",
    "            seq = vc(seq)\n",
    "            for i in range(1, len(seq)-1):\n",
    "                X_1.append(features[key][0])\n",
    "                X_2.append(seq[:i])\n",
    "                y.append(seq[i])\n",
    "    X_2 = pad_sequences(X_2, maxlen=max_len)\n",
    "    return np.array(X_1), X_2.reshape((X_2.shape[0],X_2.shape[1])), np.array(y)"
   ]
  },
  {
   "cell_type": "code",
   "execution_count": 71,
   "metadata": {},
   "outputs": [],
   "source": [
    "X_1_train, X_2_train, y_train = sequencer(train_dataset, captions_train, features)\n",
    "X_1_test, X_2_test, y_test = sequencer(test_dataset, captions_test, features)"
   ]
  },
  {
   "cell_type": "code",
   "execution_count": 72,
   "metadata": {},
   "outputs": [
    {
     "name": "stdout",
     "output_type": "stream",
     "text": [
      "(324018, 1000)\n",
      "(324018, 36)\n",
      "(324018, 1)\n"
     ]
    }
   ],
   "source": [
    "print(X_1_train.shape)\n",
    "print(X_2_train.shape)\n",
    "print(y_train.shape)"
   ]
  },
  {
   "cell_type": "code",
   "execution_count": 73,
   "metadata": {},
   "outputs": [
    {
     "name": "stdout",
     "output_type": "stream",
     "text": [
      "(54237, 1000)\n",
      "(54237, 36)\n",
      "(54237, 1)\n"
     ]
    }
   ],
   "source": [
    "print(X_1_test.shape)\n",
    "print(X_2_test.shape)\n",
    "print(y_test.shape)"
   ]
  },
  {
   "cell_type": "code",
   "execution_count": 65,
   "metadata": {},
   "outputs": [],
   "source": [
    "from keras.layers import Input, Dense, Dropout, Embedding, LSTM, add\n",
    "from keras.models import Model\n",
    "from keras.callbacks import ModelCheckpoint"
   ]
  },
  {
   "cell_type": "code",
   "execution_count": 74,
   "metadata": {},
   "outputs": [],
   "source": [
    "inputs_fe = Input(shape=(1000,))\n",
    "fe1 = Dropout(0.5)(inputs_fe)\n",
    "fe2 = Dense(256, activation='relu')(fe1)\n",
    "\n",
    "inputs_se = Input(shape=(max_len,))\n",
    "se1 = Embedding(len(vocab)+2, 256, mask_zero=True)(inputs_se)\n",
    "se2 = Dropout(0.5)(se1)\n",
    "se3 = LSTM(256)(se2)\n",
    "\n",
    "decoder1 = add([fe2, se3])\n",
    "decoder2 = Dense(256, activation='relu')(decoder1)\n",
    "outputs = Dense(len(vocab)+2, activation='softmax')(decoder2)\n",
    "\n",
    "model = Model(inputs=[inputs_fe, inputs_se], outputs=outputs)\n",
    "model.compile(optimizer='adam', loss='sparse_categorical_crossentropy')"
   ]
  },
  {
   "cell_type": "code",
   "execution_count": 75,
   "metadata": {},
   "outputs": [
    {
     "name": "stdout",
     "output_type": "stream",
     "text": [
      "Model: \"model_3\"\n",
      "__________________________________________________________________________________________________\n",
      " Layer (type)                   Output Shape         Param #     Connected to                     \n",
      "==================================================================================================\n",
      " input_8 (InputLayer)           [(None, 36)]         0           []                               \n",
      "                                                                                                  \n",
      " input_7 (InputLayer)           [(None, 1000)]       0           []                               \n",
      "                                                                                                  \n",
      " embedding_3 (Embedding)        (None, 36, 256)      1481472     ['input_8[0][0]']                \n",
      "                                                                                                  \n",
      " dropout_6 (Dropout)            (None, 1000)         0           ['input_7[0][0]']                \n",
      "                                                                                                  \n",
      " dropout_7 (Dropout)            (None, 36, 256)      0           ['embedding_3[0][0]']            \n",
      "                                                                                                  \n",
      " dense_9 (Dense)                (None, 256)          256256      ['dropout_6[0][0]']              \n",
      "                                                                                                  \n",
      " lstm_3 (LSTM)                  (None, 256)          525312      ['dropout_7[0][0]']              \n",
      "                                                                                                  \n",
      " add_3 (Add)                    (None, 256)          0           ['dense_9[0][0]',                \n",
      "                                                                  'lstm_3[0][0]']                 \n",
      "                                                                                                  \n",
      " dense_10 (Dense)               (None, 256)          65792       ['add_3[0][0]']                  \n",
      "                                                                                                  \n",
      " dense_11 (Dense)               (None, 5787)         1487259     ['dense_10[0][0]']               \n",
      "                                                                                                  \n",
      "==================================================================================================\n",
      "Total params: 3,816,091\n",
      "Trainable params: 3,816,091\n",
      "Non-trainable params: 0\n",
      "__________________________________________________________________________________________________\n"
     ]
    }
   ],
   "source": [
    "model.summary()"
   ]
  },
  {
   "cell_type": "code",
   "execution_count": 76,
   "metadata": {},
   "outputs": [],
   "source": [
    "# define checkpoint callback\n",
    "filepath = './models/model-ep{epoch:03d}-loss{loss:.3f}-val_loss{val_loss:.3f}.h5'\n",
    "checkpoint = ModelCheckpoint(filepath, monitor='val_loss', verbose=1, save_best_only=True, mode='min')"
   ]
  },
  {
   "cell_type": "code",
   "execution_count": 197,
   "metadata": {},
   "outputs": [
    {
     "name": "stdout",
     "output_type": "stream",
     "text": [
      "Epoch 1/10\n",
      "313/313 [==============================] - ETA: 0s - loss: 4.6736\n",
      "Epoch 1: val_loss improved from 5.22047 to 4.64023, saving model to ./models/model-ep001-loss4.674-val_loss4.640.h5\n",
      "313/313 [==============================] - 136s 433ms/step - loss: 4.6736 - val_loss: 4.6402\n",
      "Epoch 2/10\n",
      "313/313 [==============================] - ETA: 0s - loss: 3.9643\n",
      "Epoch 2: val_loss improved from 4.64023 to 4.61622, saving model to ./models/model-ep002-loss3.964-val_loss4.616.h5\n",
      "313/313 [==============================] - 133s 424ms/step - loss: 3.9643 - val_loss: 4.6162\n",
      "Epoch 3/10\n",
      "313/313 [==============================] - ETA: 0s - loss: 3.6772\n",
      "Epoch 3: val_loss did not improve from 4.61622\n",
      "313/313 [==============================] - 132s 422ms/step - loss: 3.6772 - val_loss: 4.6690\n",
      "Epoch 4/10\n",
      "313/313 [==============================] - ETA: 0s - loss: 3.4625\n",
      "Epoch 4: val_loss did not improve from 4.61622\n",
      "313/313 [==============================] - 142s 455ms/step - loss: 3.4625 - val_loss: 4.6823\n",
      "Epoch 5/10\n",
      "313/313 [==============================] - ETA: 0s - loss: 3.2553\n",
      "Epoch 5: val_loss did not improve from 4.61622\n",
      "313/313 [==============================] - 140s 447ms/step - loss: 3.2553 - val_loss: 4.7529\n",
      "Epoch 6/10\n",
      "313/313 [==============================] - ETA: 0s - loss: 3.0668\n",
      "Epoch 6: val_loss did not improve from 4.61622\n",
      "313/313 [==============================] - 152s 487ms/step - loss: 3.0668 - val_loss: 4.9566\n",
      "Epoch 7/10\n",
      "313/313 [==============================] - ETA: 0s - loss: 2.8772\n",
      "Epoch 7: val_loss did not improve from 4.61622\n",
      "313/313 [==============================] - 136s 434ms/step - loss: 2.8772 - val_loss: 5.0689\n",
      "Epoch 8/10\n",
      "313/313 [==============================] - ETA: 0s - loss: 2.6843\n",
      "Epoch 8: val_loss did not improve from 4.61622\n",
      "313/313 [==============================] - 130s 414ms/step - loss: 2.6843 - val_loss: 5.2974\n",
      "Epoch 9/10\n",
      "313/313 [==============================] - ETA: 0s - loss: 2.4965\n",
      "Epoch 9: val_loss did not improve from 4.61622\n",
      "313/313 [==============================] - 162s 517ms/step - loss: 2.4965 - val_loss: 5.5473\n",
      "Epoch 10/10\n",
      "313/313 [==============================] - ETA: 0s - loss: 2.3109\n",
      "Epoch 10: val_loss did not improve from 4.61622\n",
      "313/313 [==============================] - 152s 486ms/step - loss: 2.3109 - val_loss: 5.8083\n"
     ]
    },
    {
     "data": {
      "text/plain": [
       "<keras.callbacks.History at 0x7fe4f109d910>"
      ]
     },
     "execution_count": 197,
     "metadata": {},
     "output_type": "execute_result"
    }
   ],
   "source": [
    "model.fit(\n",
    "    [X_1_train[:10000], X_2_train[:10000]], \n",
    "    y_train[:10000], \n",
    "    epochs=10,\n",
    "    callbacks=[checkpoint], \n",
    "    validation_data=([X_1_test[:10000], X_2_test[:10000]], y_test[:10000])\n",
    "    )"
   ]
  },
  {
   "cell_type": "code",
   "execution_count": 241,
   "metadata": {},
   "outputs": [],
   "source": [
    "image = features[list(features.keys())[207]]"
   ]
  },
  {
   "cell_type": "code",
   "execution_count": 233,
   "metadata": {},
   "outputs": [],
   "source": [
    "def predict(model, vc, image, max_len):\n",
    "    desc = ['startseq']\n",
    "    for i in range(36):   \n",
    "        desc_tok = pad_sequences([vc(desc)], maxlen=max_len).reshape((1,36))\n",
    "        pred = model.predict([image, desc_tok], verbose=0)\n",
    "        pred_text = vc.get_vocabulary()[np.argmax(pred)]\n",
    "        desc.append(pred_text)\n",
    "    return desc"
   ]
  },
  {
   "cell_type": "code",
   "execution_count": 236,
   "metadata": {},
   "outputs": [
    {
     "data": {
      "text/plain": [
       "['startseq',\n",
       " 'a',\n",
       " 'man',\n",
       " 'be',\n",
       " 'hold',\n",
       " 'a',\n",
       " 'religious',\n",
       " 'train',\n",
       " 'car',\n",
       " 'in',\n",
       " 'the',\n",
       " 'camera',\n",
       " 'while',\n",
       " 'another',\n",
       " 'man',\n",
       " 'be',\n",
       " 'watch',\n",
       " 'the',\n",
       " 'camera',\n",
       " 'while',\n",
       " 'another',\n",
       " 'man',\n",
       " 'be',\n",
       " 'watch',\n",
       " 'the',\n",
       " 'camera',\n",
       " 'in',\n",
       " 'the',\n",
       " 'camera',\n",
       " 'watch',\n",
       " 'he',\n",
       " 'be',\n",
       " 'stand',\n",
       " 'in',\n",
       " 'a',\n",
       " 'blue',\n",
       " 'wall']"
      ]
     },
     "execution_count": 236,
     "metadata": {},
     "output_type": "execute_result"
    }
   ],
   "source": [
    "desc = predict(model, vc, image, max_len)\n",
    "desc"
   ]
  },
  {
   "cell_type": "code",
   "execution_count": 176,
   "metadata": {},
   "outputs": [],
   "source": [
    "from keras.utils import load_img\n",
    "directory = 'data/Flicker8k_Dataset'"
   ]
  },
  {
   "cell_type": "code",
   "execution_count": 243,
   "metadata": {},
   "outputs": [
    {
     "data": {
      "image/png": "[encoded data removed]",
      "text/plain": [
       "<PIL.Image.Image image mode=RGB size=224x224>"
      ]
     },
     "execution_count": 243,
     "metadata": {},
     "output_type": "execute_result"
    }
   ],
   "source": [
    "name = list(features.keys())[207]\n",
    "picture = load_img(directory + '/' + name + '.jpg', target_size=(224,224))\n",
    "picture"
   ]
  },
  {
   "cell_type": "code",
   "execution_count": 238,
   "metadata": {},
   "outputs": [],
   "source": [
    "from model import RnnModel"
   ]
  },
  {
   "cell_type": "code",
   "execution_count": 239,
   "metadata": {},
   "outputs": [],
   "source": [
    "model_path = 'models/model-ep002-loss3.964-val_loss4.616.h5'\n",
    "from keras.models import load_model\n",
    "\n",
    "rnn = RnnModel(load_model(model_path), vc, max_len)"
   ]
  },
  {
   "cell_type": "code",
   "execution_count": 242,
   "metadata": {},
   "outputs": [
    {
     "data": {
      "text/plain": [
       "['startseq',\n",
       " 'a',\n",
       " 'man',\n",
       " 'be',\n",
       " 'be',\n",
       " 'run',\n",
       " 'on',\n",
       " 'a',\n",
       " 'red',\n",
       " 'shirt',\n",
       " 'on',\n",
       " 'a',\n",
       " 'red',\n",
       " 'shirt',\n",
       " 'and',\n",
       " 'a',\n",
       " 'red',\n",
       " 'shirt',\n",
       " 'and',\n",
       " 'a',\n",
       " 'red',\n",
       " 'shirt',\n",
       " 'and',\n",
       " 'a',\n",
       " 'red',\n",
       " 'shirt',\n",
       " 'and',\n",
       " 'a',\n",
       " 'red',\n",
       " 'shirt',\n",
       " 'and',\n",
       " 'a',\n",
       " 'red',\n",
       " 'shirt',\n",
       " 'and',\n",
       " 'a',\n",
       " 'red']"
      ]
     },
     "execution_count": 242,
     "metadata": {},
     "output_type": "execute_result"
    }
   ],
   "source": [
    "rnn.predict(image)"
   ]
  },
  {
   "cell_type": "code",
   "execution_count": 244,
   "metadata": {},
   "outputs": [
    {
     "data": {
      "text/plain": [
       "36.787944117144235"
      ]
     },
     "execution_count": 244,
     "metadata": {},
     "output_type": "execute_result"
    }
   ],
   "source": []
  },
  {
   "cell_type": "markdown",
   "metadata": {},
   "source": [
    "Secretary problem"
   ]
  },
  {
   "cell_type": "code",
   "execution_count": 251,
   "metadata": {},
   "outputs": [
    {
     "data": {
      "text/plain": [
       "[1, 3, 2]"
      ]
     },
     "execution_count": 251,
     "metadata": {},
     "output_type": "execute_result"
    }
   ],
   "source": [
    "a = [1,2,3]\n",
    "np.random.shuffle(a)\n"
   ]
  },
  {
   "cell_type": "code",
   "execution_count": 267,
   "metadata": {},
   "outputs": [],
   "source": [
    "def max_finder(k, n):\n",
    "    a = [i for i in range(n)]\n",
    "    np.random.shuffle(a)\n",
    "    pre_max = max(a[:k])\n",
    "    for i in a[k:]:\n",
    "        if i>pre_max:\n",
    "            return i\n",
    "    return -1\n"
   ]
  },
  {
   "cell_type": "code",
   "execution_count": 272,
   "metadata": {},
   "outputs": [
    {
     "data": {
      "text/plain": [
       "7"
      ]
     },
     "execution_count": 272,
     "metadata": {},
     "output_type": "execute_result"
    }
   ],
   "source": [
    "max_finder(3,10)"
   ]
  },
  {
   "cell_type": "code",
   "execution_count": 301,
   "metadata": {},
   "outputs": [
    {
     "data": {
      "text/plain": [
       "35"
      ]
     },
     "execution_count": 301,
     "metadata": {},
     "output_type": "execute_result"
    }
   ],
   "source": [
    "succes_list = []\n",
    "for k in range(100):\n",
    "    succes = 0\n",
    "    for i in range(10000):\n",
    "        if max_finder(k+1,100) in [99]:\n",
    "            succes += 1\n",
    "    succes_list.append(succes)\n",
    "succes_list.index(max(succes_list))"
   ]
  },
  {
   "cell_type": "code",
   "execution_count": 290,
   "metadata": {},
   "outputs": [
    {
     "data": {
      "text/plain": [
       "36.787944117144235"
      ]
     },
     "execution_count": 290,
     "metadata": {},
     "output_type": "execute_result"
    }
   ],
   "source": [
    "100/np.e"
   ]
  },
  {
   "cell_type": "code",
   "execution_count": 292,
   "metadata": {},
   "outputs": [],
   "source": [
    "import matplotlib.pyplot as plt"
   ]
  },
  {
   "cell_type": "code",
   "execution_count": 302,
   "metadata": {},
   "outputs": [
    {
     "data": {
      "text/plain": [
       "[<matplotlib.lines.Line2D at 0x7fe5290a3400>]"
      ]
     },
     "execution_count": 302,
     "metadata": {},
     "output_type": "execute_result"
    },
    {
     "data": {
      "image/png": "[encoded data removed]",
      "text/plain": [
       "<Figure size 432x288 with 1 Axes>"
      ]
     },
     "metadata": {
      "needs_background": "light"
     },
     "output_type": "display_data"
    }
   ],
   "source": [
    "plt.plot(succes_list)"
   ]
  },
  {
   "cell_type": "code",
   "execution_count": 303,
   "metadata": {},
   "outputs": [
    {
     "data": {
      "text/plain": [
       "3773"
      ]
     },
     "execution_count": 303,
     "metadata": {},
     "output_type": "execute_result"
    }
   ],
   "source": [
    "succes_list[35]"
   ]
  },
  {
   "cell_type": "code",
   "execution_count": null,
   "metadata": {},
   "outputs": [],
   "source": []
  }
 ],
 "metadata": {
  "kernelspec": {
   "display_name": "Python 3.8.13 ('tf')",
   "language": "python",
   "name": "python3"
  },
  "language_info": {
   "codemirror_mode": {
    "name": "ipython",
    "version": 3
   },
   "file_extension": ".py",
   "mimetype": "text/x-python",
   "name": "python",
   "nbconvert_exporter": "python",
   "pygments_lexer": "ipython3",
   "version": "3.8.13"
  },
  "orig_nbformat": 4,
  "vscode": {
   "interpreter": {
    "hash": "85b35dbaecfeb6324bfd2b102a4649f8303ec36695a758fff5bf73890cbd2cad"
   }
  }
 },
 "nbformat": 4,
 "nbformat_minor": 2
}
